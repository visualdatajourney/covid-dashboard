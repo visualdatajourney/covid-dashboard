{
 "cells": [
  {
   "cell_type": "markdown",
   "metadata": {},
   "source": [
    "[DIY Disease Tracking Dashboard Kit](https://github.com/fsmeraldi/diy-covid19dash) (C) Fabrizio Smeraldi, 2020,2024 ([f.smeraldi@qmul.ac.uk](mailto:f.smeraldi@qmul.ac.uk) - [web](http://www.eecs.qmul.ac.uk/~fabri/)). This notebook is released under the [GNU GPLv3.0 or later](https://www.gnu.org/licenses/)."
   ]
  },
  {
   "cell_type": "markdown",
   "metadata": {},
   "source": [
    "# DIY Disease Tracking Dashboard"
   ]
  },
  {
   "cell_type": "markdown",
   "metadata": {},
   "source": [
    "This is a template for your DIY Disease Tracking Dashboard, to which you can add the code you developed in the previous notebooks. The dashboard will be displayed using [voila](https://voila.readthedocs.io/en/stable/index.html), a Python dashboarding tool that converts notebooks to standalone dashboards. Contrary to the other libraries we have seen, the ```voila``` package must be installed using *pip* or *conda* but it does not need to be imported - it rather acts at the level of the notebook server. Package ```voila``` is already installed on the QMUL JupyterHub as well as in the Binder - to install it locally, follow the [instructions](https://voila.readthedocs.io/en/stable/install.html) online.\n",
    "\n",
    "Broadly speaking, Voila acts by **running all the cells in your notebook** when the dashboard is first loaded; it then hides all code cells and displays all markdown cells and any outputs, including widgets. However, the code is still there in the background and handles any interaction with the widgets. To view this dashboard template rendered in Voila click [here](https://mybinder.org/v2/gh/fsmeraldi/diy-covid19dash/main?urlpath=%2Fvoila%2Frender%2FDashboard.ipynb)."
   ]
  },
  {
   "cell_type": "code",
   "execution_count": 33,
   "metadata": {},
   "outputs": [],
   "source": [
    "from IPython.display import clear_output\n",
    "import ipywidgets as wdg\n",
    "import pandas as pd\n",
    "import numpy as np\n",
    "import matplotlib.pyplot as plt\n",
    "import requests\n",
    "import time\n",
    "import json"
   ]
  },
  {
   "cell_type": "code",
   "execution_count": 34,
   "metadata": {},
   "outputs": [],
   "source": [
    "%matplotlib inline\n",
    "# make figures larger\n",
    "plt.rcParams['figure.dpi'] = 100"
   ]
  },
  {
   "cell_type": "markdown",
   "metadata": {},
   "source": [
    "## Load initial data from disk\n",
    "\n",
    "You should include \"canned\" data in ```.json``` files along with your dashboard. When the dashboard starts, it should load that data and assign it as a dictionary to the ```jsondata``` variable (the code below will be hidden when the dashboard is rendered by Voila)."
   ]
  },
  {
   "cell_type": "code",
   "execution_count": 10,
   "metadata": {},
   "outputs": [
    {
     "name": "stdout",
     "output_type": "stream",
     "text": [
      "Data has been saved to initial_data.json\n"
     ]
    }
   ],
   "source": [
    "import json\n",
    "\n",
    "# Example data\n",
    "data = [\n",
    "    {\"Date\": \"2023-01-01\", \"Confirmed\": 1000, \"Deaths\": 50, \"Recovered\": 900},\n",
    "    {\"Date\": \"2023-01-02\", \"Confirmed\": 1050, \"Deaths\": 52, \"Recovered\": 920},\n",
    "    {\"Date\": \"2023-01-03\", \"Confirmed\": 1100, \"Deaths\": 53, \"Recovered\": 950},\n",
    "    {\"Date\": \"2023-01-04\", \"Confirmed\": 1200, \"Deaths\": 55, \"Recovered\": 980},\n",
    "    {\"Date\": \"2023-01-05\", \"Confirmed\": 1250, \"Deaths\": 56, \"Recovered\": 1000},\n",
    "    {\"Date\": \"2023-01-06\", \"Confirmed\": 1300, \"Deaths\": 58, \"Recovered\": 1020}\n",
    "]\n",
    "\n",
    "# Write the data to a .json file\n",
    "with open('initial_data.json', 'w') as f:\n",
    "    json.dump(data, f, indent=4)\n",
    "\n",
    "print(\"Data has been saved to initial_data.json\")\n"
   ]
  },
  {
   "cell_type": "markdown",
   "metadata": {},
   "source": [
    "## Wrangle the data\n",
    "\n",
    "The dashboard should contain the logic to wrangle the raw data into a ```DataFrame``` (or more than one, as required) that will be used for plotting. The wrangling code should be put into a function and called on the data from the JSON file (we'll need to call it again on any data downloaded from the API).  In this template, we just pretend we are wrangling ```rawdata``` and instead generate a dataframe with some random data"
   ]
  },
  {
   "cell_type": "code",
   "execution_count": 11,
   "metadata": {},
   "outputs": [
    {
     "data": {
      "text/html": [
       "<div>\n",
       "<style scoped>\n",
       "    .dataframe tbody tr th:only-of-type {\n",
       "        vertical-align: middle;\n",
       "    }\n",
       "\n",
       "    .dataframe tbody tr th {\n",
       "        vertical-align: top;\n",
       "    }\n",
       "\n",
       "    .dataframe thead th {\n",
       "        text-align: right;\n",
       "    }\n",
       "</style>\n",
       "<table border=\"1\" class=\"dataframe\">\n",
       "  <thead>\n",
       "    <tr style=\"text-align: right;\">\n",
       "      <th></th>\n",
       "      <th>Date</th>\n",
       "      <th>Confirmed</th>\n",
       "      <th>Deaths</th>\n",
       "      <th>Recovered</th>\n",
       "    </tr>\n",
       "  </thead>\n",
       "  <tbody>\n",
       "    <tr>\n",
       "      <th>0</th>\n",
       "      <td>2023-01-01</td>\n",
       "      <td>1000</td>\n",
       "      <td>50</td>\n",
       "      <td>900</td>\n",
       "    </tr>\n",
       "    <tr>\n",
       "      <th>1</th>\n",
       "      <td>2023-01-02</td>\n",
       "      <td>1050</td>\n",
       "      <td>52</td>\n",
       "      <td>920</td>\n",
       "    </tr>\n",
       "    <tr>\n",
       "      <th>2</th>\n",
       "      <td>2023-01-03</td>\n",
       "      <td>1100</td>\n",
       "      <td>53</td>\n",
       "      <td>950</td>\n",
       "    </tr>\n",
       "    <tr>\n",
       "      <th>3</th>\n",
       "      <td>2023-01-04</td>\n",
       "      <td>1200</td>\n",
       "      <td>55</td>\n",
       "      <td>980</td>\n",
       "    </tr>\n",
       "    <tr>\n",
       "      <th>4</th>\n",
       "      <td>2023-01-05</td>\n",
       "      <td>1250</td>\n",
       "      <td>56</td>\n",
       "      <td>1000</td>\n",
       "    </tr>\n",
       "  </tbody>\n",
       "</table>\n",
       "</div>"
      ],
      "text/plain": [
       "        Date  Confirmed  Deaths  Recovered\n",
       "0 2023-01-01       1000      50        900\n",
       "1 2023-01-02       1050      52        920\n",
       "2 2023-01-03       1100      53        950\n",
       "3 2023-01-04       1200      55        980\n",
       "4 2023-01-05       1250      56       1000"
      ]
     },
     "execution_count": 11,
     "metadata": {},
     "output_type": "execute_result"
    }
   ],
   "source": [
    "import pandas as pd\n",
    "\n",
    "def wrangle_data(raw_data):\n",
    "    \"\"\"\n",
    "    This function takes raw data (as a list of dictionaries) and returns a cleaned DataFrame.\n",
    "    It will:\n",
    "        - Convert date strings to datetime objects.\n",
    "        - Ensure numerical columns are of the correct type.\n",
    "        - Handle missing values (if any).\n",
    "    \"\"\"\n",
    "    # Convert raw data to DataFrame\n",
    "    df = pd.DataFrame(raw_data)\n",
    "    \n",
    "    # Convert 'Date' to datetime format\n",
    "    df['Date'] = pd.to_datetime(df['Date'])\n",
    "    \n",
    "    # Ensure numerical columns are of the correct type (int)\n",
    "    df['Confirmed'] = pd.to_numeric(df['Confirmed'], errors='coerce').fillna(0).astype(int)\n",
    "    df['Deaths'] = pd.to_numeric(df['Deaths'], errors='coerce').fillna(0).astype(int)\n",
    "    df['Recovered'] = pd.to_numeric(df['Recovered'], errors='coerce').fillna(0).astype(int)\n",
    "    \n",
    "    # Handle any missing values if required (e.g., filling with zeros or forward fill)\n",
    "    # Example: Fill missing numerical values with zero (if applicable)\n",
    "    # df.fillna(0, inplace=True)\n",
    "    \n",
    "    return df\n",
    "\n",
    "# Test the wrangle function with the sample raw data\n",
    "raw_data = [\n",
    "    {\"Date\": \"2023-01-01\", \"Confirmed\": 1000, \"Deaths\": 50, \"Recovered\": 900},\n",
    "    {\"Date\": \"2023-01-02\", \"Confirmed\": 1050, \"Deaths\": 52, \"Recovered\": 920},\n",
    "    {\"Date\": \"2023-01-03\", \"Confirmed\": 1100, \"Deaths\": 53, \"Recovered\": 950},\n",
    "    {\"Date\": \"2023-01-04\", \"Confirmed\": 1200, \"Deaths\": 55, \"Recovered\": 980},\n",
    "    {\"Date\": \"2023-01-05\", \"Confirmed\": 1250, \"Deaths\": 56, \"Recovered\": 1000},\n",
    "    {\"Date\": \"2023-01-06\", \"Confirmed\": 1300, \"Deaths\": 58, \"Recovered\": 1020}\n",
    "]\n",
    "\n",
    "# Wrangle the raw data\n",
    "df = wrangle_data(raw_data)\n",
    "\n",
    "# Display the cleaned DataFrame\n",
    "df.head()\n"
   ]
  },
  {
   "cell_type": "markdown",
   "metadata": {},
   "source": [
    "## Download current data"
   ]
  },
  {
   "cell_type": "markdown",
   "metadata": {},
   "source": [
    "Give your users an option to refresh the dataset - a \"refresh\" button will do. The button callback should\n",
    "* call the code that accesses the API and download some fresh raw data;\n",
    "* wrangle that data into a dataframe and update the corresponding (global) variable for plotting (here, ```df```);\n",
    "* optionally: force a redraw of the graph and give the user some fredback.\n",
    "\n",
    "Once you get it to work, you may want to wrap your API call inside an exception handler, so that the user is informed, the \"canned\" data are not overwritten and nothing crashes if for any reason the server cannot be reached or data are not available.\n",
    "\n",
    "After you refresh the data, graphs will not update until the user interacts with a widget. You can trick ```iPywidgets``` into redrawing the graph by simulating interaction, as in the ```refresh_graph``` function we define in the Graph and Analysis section below.\n",
    "\n",
    "In this example, clicking on the button below just generates some more random data and refreshes the graph. The button should read *Fetch Data*. If you see anything else, take a deep breath :)"
   ]
  },
  {
   "cell_type": "code",
   "execution_count": 12,
   "metadata": {},
   "outputs": [
    {
     "data": {
      "application/vnd.jupyter.widget-view+json": {
       "model_id": "1dcbe30b8e7e4184902a3e9a390c404b",
       "version_major": 2,
       "version_minor": 0
      },
      "text/plain": [
       "Button(description='Fetch Data', style=ButtonStyle())"
      ]
     },
     "execution_count": 12,
     "metadata": {},
     "output_type": "execute_result"
    }
   ],
   "source": [
    "import ipywidgets as widgets\n",
    "from ipywidgets import interact, interact_manual\n",
    "import pandas as pd\n",
    "import numpy as np\n",
    "import matplotlib.pyplot as plt\n",
    "import requests  # For making API calls\n",
    "\n",
    "# Initial \"canned\" data (in case API call fails)\n",
    "initial_data = [\n",
    "    {\"Date\": \"2023-01-01\", \"Confirmed\": 1000, \"Deaths\": 50, \"Recovered\": 900},\n",
    "    {\"Date\": \"2023-01-02\", \"Confirmed\": 1050, \"Deaths\": 52, \"Recovered\": 920},\n",
    "    {\"Date\": \"2023-01-03\", \"Confirmed\": 1100, \"Deaths\": 53, \"Recovered\": 950},\n",
    "    {\"Date\": \"2023-01-04\", \"Confirmed\": 1200, \"Deaths\": 55, \"Recovered\": 980},\n",
    "    {\"Date\": \"2023-01-05\", \"Confirmed\": 1250, \"Deaths\": 56, \"Recovered\": 1000},\n",
    "    {\"Date\": \"2023-01-06\", \"Confirmed\": 1300, \"Deaths\": 58, \"Recovered\": 1020}\n",
    "]\n",
    "\n",
    "# Global variable to hold the current data (either \"canned\" or fetched from API)\n",
    "df = pd.DataFrame(initial_data)  # Start with initial canned data\n",
    "\n",
    "# Wrangle the data into a DataFrame\n",
    "def wrangle_data(raw_data):\n",
    "    \"\"\"Wrangle raw data into a DataFrame.\"\"\"\n",
    "    df = pd.DataFrame(raw_data)\n",
    "    df['Date'] = pd.to_datetime(df['Date'])\n",
    "    df['Confirmed'] = pd.to_numeric(df['Confirmed'], errors='coerce').fillna(0).astype(int)\n",
    "    df['Deaths'] = pd.to_numeric(df['Deaths'], errors='coerce').fillna(0).astype(int)\n",
    "    df['Recovered'] = pd.to_numeric(df['Recovered'], errors='coerce').fillna(0).astype(int)\n",
    "    return df\n",
    "\n",
    "# Function to plot the Confirmed cases\n",
    "def plot_confirmed_cases(df):\n",
    "    \"\"\"Plot confirmed cases over time.\"\"\"\n",
    "    plt.figure(figsize=(10, 6))\n",
    "    plt.plot(df['Date'], df['Confirmed'], label='Confirmed Cases', color='b', marker='o')\n",
    "    plt.title('Confirmed Cases Over Time')\n",
    "    plt.xlabel('Date')\n",
    "    plt.ylabel('Confirmed Cases')\n",
    "    plt.xticks(rotation=45)\n",
    "    plt.legend()\n",
    "    plt.grid(True)\n",
    "    plt.show()\n",
    "\n",
    "# Function to fetch fresh data from the API\n",
    "def fetch_data_from_api():\n",
    "    \"\"\"Fetch fresh data from the UKHSA API (simulated for now).\"\"\"\n",
    "    try:\n",
    "        # For demonstration, replace this URL with the actual API endpoint\n",
    "        url = \"https://example.com/api/covid-data\"\n",
    "        \n",
    "        # Simulating the API response (in a real case, you'd use requests.get(url))\n",
    "        response = {\n",
    "            \"Date\": [\"2023-01-07\", \"2023-01-08\", \"2023-01-09\", \"2023-01-10\"],\n",
    "            \"Confirmed\": [1350, 1400, 1450, 1500],\n",
    "            \"Deaths\": [59, 60, 61, 62],\n",
    "            \"Recovered\": [1050, 1100, 1150, 1200]\n",
    "        }\n",
    "        \n",
    "        # In a real scenario, you'd parse the actual API response here\n",
    "        if response:\n",
    "            return wrangle_data(response)\n",
    "        else:\n",
    "            raise ValueError(\"No data received from the API.\")\n",
    "    except Exception as e:\n",
    "        print(f\"Error fetching data: {e}\")\n",
    "        return wrangle_data(initial_data)  # Use canned data in case of error\n",
    "\n",
    "# Refresh the data and update the plot\n",
    "def refresh_data(button):\n",
    "    \"\"\"Handle refreshing data when the button is clicked.\"\"\"\n",
    "    global df\n",
    "    df = fetch_data_from_api()  # Fetch and wrangle the fresh data\n",
    "    plot_confirmed_cases(df)  # Plot the updated data\n",
    "    print(\"Data refreshed successfully!\")  # Give feedback to the user\n",
    "\n",
    "# Create the \"Fetch Data\" button\n",
    "refresh_button = widgets.Button(description=\"Fetch Data\")\n",
    "\n",
    "# Bind the button to the refresh_data function\n",
    "refresh_button.on_click(refresh_data)\n",
    "\n",
    "# Display the button\n",
    "refresh_button\n"
   ]
  },
  {
   "cell_type": "markdown",
   "metadata": {},
   "source": [
    "## Graphs and Analysis"
   ]
  },
  {
   "cell_type": "markdown",
   "metadata": {},
   "source": [
    "Include at least one graph with interactive controls, as well as some instructions for the user and/or comments on what the graph represents and how it should be explored (this example shows two random walks)"
   ]
  },
  {
   "cell_type": "code",
   "execution_count": 13,
   "metadata": {},
   "outputs": [
    {
     "name": "stdout",
     "output_type": "stream",
     "text": [
      "### Instructions for Interacting with the Graph:\n",
      "1. **Select Metric**: Choose the metric (Confirmed, Deaths, or Recovered) you want to visualize.\n",
      "2. **Adjust Date Range**: Use the date range slider to choose which portion of the data you want to display.\n",
      "3. **Explore**: After selecting the metric and adjusting the date range, the graph will automatically update.\n",
      "Use these tools to analyze the trends in the chosen metric over time.\n"
     ]
    },
    {
     "data": {
      "application/vnd.jupyter.widget-view+json": {
       "model_id": "48f3d0c8ab7f4e1498c931bb96d70852",
       "version_major": 2,
       "version_minor": 0
      },
      "text/plain": [
       "interactive(children=(Dropdown(description='Metric:', options=('Confirmed', 'Deaths', 'Recovered'), value='Con…"
      ]
     },
     "metadata": {},
     "output_type": "display_data"
    },
    {
     "data": {
      "text/plain": [
       "<function __main__.plot_graph(df, metric, date_range)>"
      ]
     },
     "execution_count": 13,
     "metadata": {},
     "output_type": "execute_result"
    }
   ],
   "source": [
    "import ipywidgets as widgets\n",
    "from ipywidgets import interact, interact_manual\n",
    "import pandas as pd\n",
    "import numpy as np\n",
    "import matplotlib.pyplot as plt\n",
    "import requests  # For making API calls\n",
    "\n",
    "# Initial \"canned\" data (in case API call fails)\n",
    "initial_data = [\n",
    "    {\"Date\": \"2023-01-01\", \"Confirmed\": 1000, \"Deaths\": 50, \"Recovered\": 900},\n",
    "    {\"Date\": \"2023-01-02\", \"Confirmed\": 1050, \"Deaths\": 52, \"Recovered\": 920},\n",
    "    {\"Date\": \"2023-01-03\", \"Confirmed\": 1100, \"Deaths\": 53, \"Recovered\": 950},\n",
    "    {\"Date\": \"2023-01-04\", \"Confirmed\": 1200, \"Deaths\": 55, \"Recovered\": 980},\n",
    "    {\"Date\": \"2023-01-05\", \"Confirmed\": 1250, \"Deaths\": 56, \"Recovered\": 1000},\n",
    "    {\"Date\": \"2023-01-06\", \"Confirmed\": 1300, \"Deaths\": 58, \"Recovered\": 1020}\n",
    "]\n",
    "\n",
    "# Global variable to hold the current data (either \"canned\" or fetched from API)\n",
    "df = pd.DataFrame(initial_data)  # Start with initial canned data\n",
    "\n",
    "# Wrangle the data into a DataFrame\n",
    "def wrangle_data(raw_data):\n",
    "    \"\"\"Wrangle raw data into a DataFrame.\"\"\"\n",
    "    df = pd.DataFrame(raw_data)\n",
    "    df['Date'] = pd.to_datetime(df['Date'])\n",
    "    df['Confirmed'] = pd.to_numeric(df['Confirmed'], errors='coerce').fillna(0).astype(int)\n",
    "    df['Deaths'] = pd.to_numeric(df['Deaths'], errors='coerce').fillna(0).astype(int)\n",
    "    df['Recovered'] = pd.to_numeric(df['Recovered'], errors='coerce').fillna(0).astype(int)\n",
    "    return df\n",
    "\n",
    "# Function to plot the data based on selected metric and date range\n",
    "def plot_graph(df, metric, date_range):\n",
    "    \"\"\"Plot the selected metric (Confirmed, Deaths, Recovered) over the chosen date range.\"\"\"\n",
    "    filtered_df = df.iloc[date_range[0]:date_range[1]]  # Filter data based on the selected date range\n",
    "    \n",
    "    plt.figure(figsize=(10, 6))\n",
    "    plt.plot(filtered_df['Date'], filtered_df[metric], label=f'{metric} Cases', marker='o')\n",
    "    \n",
    "    plt.title(f'{metric} Cases Over Time')\n",
    "    plt.xlabel('Date')\n",
    "    plt.ylabel(f'{metric} Cases')\n",
    "    plt.xticks(rotation=45)\n",
    "    plt.legend()\n",
    "    plt.grid(True)\n",
    "    plt.show()\n",
    "\n",
    "# Function to provide instructions for using the graph\n",
    "def show_instructions():\n",
    "    \"\"\"Display instructions to the user on how to interact with the graph.\"\"\"\n",
    "    print(\"### Instructions for Interacting with the Graph:\")\n",
    "    print(\"1. **Select Metric**: Choose the metric (Confirmed, Deaths, or Recovered) you want to visualize.\")\n",
    "    print(\"2. **Adjust Date Range**: Use the date range slider to choose which portion of the data you want to display.\")\n",
    "    print(\"3. **Explore**: After selecting the metric and adjusting the date range, the graph will automatically update.\")\n",
    "    print(\"Use these tools to analyze the trends in the chosen metric over time.\")\n",
    "\n",
    "# Create widgets for user interaction\n",
    "dropdown_metric = widgets.Dropdown(\n",
    "    options=['Confirmed', 'Deaths', 'Recovered'],\n",
    "    value='Confirmed',\n",
    "    description='Metric:'\n",
    ")\n",
    "\n",
    "slider_range = widgets.IntRangeSlider(\n",
    "    value=[0, 5],  # Default range\n",
    "    min=0,\n",
    "    max=len(df) - 1,\n",
    "    step=1,\n",
    "    description='Date Range:'\n",
    ")\n",
    "\n",
    "# Display the widgets and instructions\n",
    "show_instructions()\n",
    "\n",
    "# Create the interactive plot\n",
    "interact(plot_graph, df=widgets.fixed(df), metric=dropdown_metric, date_range=slider_range)\n"
   ]
  },
  {
   "cell_type": "markdown",
   "metadata": {},
   "source": [
    "## Deploying the dashboard\n",
    "\n",
    "Once your code is ready and you are satisfied with the appearance of the graphs, replace all the text boxes above with the explanations you would like a dashboard user to see. The next step is deploying the dashboard online - there are several [options](https://voila.readthedocs.io/en/stable/deploy.html) for this, we suggest deploying as a [Binder](https://mybinder.org/). This is basically the same technique that has been used to package this tutorial and to deploy this template dashboard. The instructions may seem a bit involved, but the actual steps are surprisingly easy - we will be going through them together during a live session. You will need an account on [GitHub](https://github.com/) for this - if you don't have one already, now it's the time to create it. "
   ]
  },
  {
   "cell_type": "markdown",
   "metadata": {},
   "source": [
    "**Author and License** Remember that if you deploy your dashboard as a Binder it will be publicly accessible. Change the copyright notice and take credit for your work! Also acknowledge your sources and the conditions of the license by including this notice: \"Based on UK Government [data](https://ukhsa-dashboard.data.gov.uk/) published by the [UK Health Security Agency](https://www.gov.uk/government/organisations/uk-health-security-agency) and on the [DIY Disease Tracking Dashboard Kit](https://github.com/fsmeraldi/diy-covid19dash) by Fabrizio Smeraldi. Released under the [GNU GPLv3.0 or later](https://www.gnu.org/licenses/).\""
   ]
  }
 ],
 "metadata": {
  "kernelspec": {
   "display_name": "Python 3 (ipykernel)",
   "language": "python",
   "name": "python3"
  },
  "language_info": {
   "codemirror_mode": {
    "name": "ipython",
    "version": 3
   },
   "file_extension": ".py",
   "mimetype": "text/x-python",
   "name": "python",
   "nbconvert_exporter": "python",
   "pygments_lexer": "ipython3",
   "version": "3.11.9"
  }
 },
 "nbformat": 4,
 "nbformat_minor": 4
}
